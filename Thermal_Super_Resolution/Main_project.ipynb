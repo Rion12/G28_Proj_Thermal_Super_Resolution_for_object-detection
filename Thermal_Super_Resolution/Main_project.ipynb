{
  "nbformat": 4,
  "nbformat_minor": 0,
  "metadata": {
    "accelerator": "GPU",
    "colab": {
      "name": "Main_project.ipynb",
      "provenance": [],
      "collapsed_sections": []
    },
    "kernelspec": {
      "display_name": "Python 3",
      "name": "python3"
    }
  },
  "cells": [
    {
      "cell_type": "markdown",
      "metadata": {
        "id": "Kx4CsrN_1bdV"
      },
      "source": [
        "**THERMAL SUPER RESOLUTION PART 1** </br>\n",
        "BY:  Akhil Vemula (U17EC087) </br>\n",
        "    &nbsp;&nbsp;&nbsp;&nbsp;&nbsp;&nbsp;Ashish Yadav (U17EC097) </br>\n",
        "    &nbsp;&nbsp;&nbsp;&nbsp;&nbsp;&nbsp;Pooja Parmar (U17EC159) </br>\n",
        "    &nbsp;&nbsp;&nbsp;&nbsp;&nbsp;&nbsp;Rion L. Ghosh (U17EC088) </br>\n",
        "    Execute the cells as per the number orders.\n",
        "\n",
        "   "
      ]
    },
    {
      "cell_type": "markdown",
      "metadata": {
        "id": "gid07GhF3HL5"
      },
      "source": [
        "1. Mount the drive having all the code and dataset files"
      ]
    },
    {
      "cell_type": "code",
      "metadata": {
        "colab": {
          "base_uri": "https://localhost:8080/"
        },
        "id": "8nrDc3dyYuY6",
        "outputId": "4ead5801-1a0b-4626-e57c-ded5405c9082"
      },
      "source": [
        "from google.colab import drive\n",
        "drive.mount('/content/drive')"
      ],
      "execution_count": null,
      "outputs": [
        {
          "output_type": "stream",
          "text": [
            "Drive already mounted at /content/drive; to attempt to forcibly remount, call drive.mount(\"/content/drive\", force_remount=True).\n"
          ],
          "name": "stdout"
        }
      ]
    },
    {
      "cell_type": "markdown",
      "metadata": {
        "id": "FlQPGsO_3UtZ"
      },
      "source": [
        "2. Change Directory"
      ]
    },
    {
      "cell_type": "code",
      "metadata": {
        "id": "M70woMPO3DSs"
      },
      "source": [
        "import os\n",
        "os.chdir('/content/drive/MyDrive/Thermal_Super_Resolution')"
      ],
      "execution_count": null,
      "outputs": []
    },
    {
      "cell_type": "code",
      "metadata": {
        "colab": {
          "base_uri": "https://localhost:8080/"
        },
        "id": "XGVJ0lfriHmF",
        "outputId": "18245fa4-9c70-44d7-bd84-eebfff312c57"
      },
      "source": [
        "!ls\n"
      ],
      "execution_count": null,
      "outputs": [
        {
          "output_type": "stream",
          "text": [
            " btgen.py\t\t\t       PSNR_SSIM_demo.py\n",
            " convert.py\t\t\t       PSNR_SSIM.py\n",
            " ex_Val_hr\t\t\t       __pycache__\n",
            " hist_pre.png\t\t\t       sample-GT-Proposed-GRL-cx\n",
            " input.png\t\t\t       test\n",
            " main.py\t\t\t       test1\n",
            " modelGAN\t\t\t       train_hr\n",
            " modelpre-GT-Proposed-GRL-cx\t       train_hr_demo\n",
            " modelpre-GT-Proposed-GRL-tv_ssim_l1   train_lr\n",
            " model.py\t\t\t       train_lr_demo\n",
            " modelvgg\t\t\t      'Utility files'\n",
            " Output\t\t\t\t       val_hr\n",
            " outputTest\t\t\t       val_hr_demo\n",
            " pred_demo.py\t\t\t       val_lr\n",
            " pred.py\t\t\t       val_lr_demo\n",
            " psnr_in\t\t\t       vgg19.npy\n",
            " PSNR_SSIM1_riondemo.py\t\t       vgg.py\n"
          ],
          "name": "stdout"
        }
      ]
    },
    {
      "cell_type": "markdown",
      "metadata": {
        "id": "pgMIUCfc32KA"
      },
      "source": [
        "3. Install Scipy"
      ]
    },
    {
      "cell_type": "code",
      "metadata": {
        "id": "YRTwtqCxFj8O"
      },
      "source": [
        "!pip install scipy==1.1.0\n"
      ],
      "execution_count": null,
      "outputs": []
    },
    {
      "cell_type": "markdown",
      "metadata": {
        "id": "jORhjIug4Pv4"
      },
      "source": [
        "4. Install Tensorflow 1.15.0"
      ]
    },
    {
      "cell_type": "code",
      "metadata": {
        "id": "qpT_1K-rWcY3"
      },
      "source": [
        "!pip install tensorflow==1.15.0"
      ],
      "execution_count": null,
      "outputs": []
    },
    {
      "cell_type": "markdown",
      "metadata": {
        "id": "b1Dasd304-DW"
      },
      "source": [
        "5. Train the model. (You can also use the weights that we already trained from the link https://github.com/Rion12/G28_Proj_Thermal_Super_Resolution_for_object-detection )"
      ]
    },
    {
      "cell_type": "code",
      "metadata": {
        "colab": {
          "background_save": true,
          "base_uri": "https://localhost:8080/"
        },
        "id": "cugPcqhwzGsG",
        "outputId": "f37f14a3-af2e-4d67-da9e-af0650553ba8"
      },
      "source": [
        "!python main.py"
      ],
      "execution_count": null,
      "outputs": [
        {
          "output_type": "stream",
          "text": [
            "read images\n",
            "695.1539 sec took reading\n",
            "train_lr has 800 files\n"
          ],
          "name": "stdout"
        }
      ]
    },
    {
      "cell_type": "markdown",
      "metadata": {
        "id": "qshNx4LJ5eCp"
      },
      "source": [
        "6. Now predict using an Low resolution image . Output will be stored in OutputTest folder. Input File must be in Test Folder."
      ]
    },
    {
      "cell_type": "code",
      "metadata": {
        "colab": {
          "base_uri": "https://localhost:8080/"
        },
        "id": "2qewXV-xh1OH",
        "outputId": "28c19137-649f-4372-d7d0-6fe4dbee22f8"
      },
      "source": [
        "!python pred_demo.py"
      ],
      "execution_count": null,
      "outputs": [
        {
          "output_type": "stream",
          "text": [
            "WARNING:tensorflow:\n",
            "The TensorFlow contrib module will not be included in TensorFlow 2.0.\n",
            "For more information, please see:\n",
            "  * https://github.com/tensorflow/community/blob/master/rfcs/20180907-contrib-sunset.md\n",
            "  * https://github.com/tensorflow/addons\n",
            "  * https://github.com/tensorflow/io (for I/O related ops)\n",
            "If you depend on functionality not listed there, please file an issue.\n",
            "\n",
            "WARNING:tensorflow:From pred_demo.py:26: The name tf.placeholder is deprecated. Please use tf.compat.v1.placeholder instead.\n",
            "\n",
            "WARNING:tensorflow:From /content/drive/MyDrive/Thermal_Super_Resolution/model.py:88: The name tf.variable_scope is deprecated. Please use tf.compat.v1.variable_scope instead.\n",
            "\n",
            "WARNING:tensorflow:From /content/drive/MyDrive/Thermal_Super_Resolution/model.py:89: conv2d (from tensorflow.python.layers.convolutional) is deprecated and will be removed in a future version.\n",
            "Instructions for updating:\n",
            "Use `tf.keras.layers.Conv2D` instead.\n",
            "WARNING:tensorflow:From /usr/local/lib/python3.7/dist-packages/tensorflow_core/python/layers/convolutional.py:424: Layer.apply (from tensorflow.python.keras.engine.base_layer) is deprecated and will be removed in a future version.\n",
            "Instructions for updating:\n",
            "Please use `layer.__call__` method instead.\n",
            "WARNING:tensorflow:From /content/drive/MyDrive/Thermal_Super_Resolution/model.py:11: The name tf.AUTO_REUSE is deprecated. Please use tf.compat.v1.AUTO_REUSE instead.\n",
            "\n",
            "WARNING:tensorflow:From /content/drive/MyDrive/Thermal_Super_Resolution/model.py:13: The name tf.get_variable is deprecated. Please use tf.compat.v1.get_variable instead.\n",
            "\n",
            "WARNING:tensorflow:From /content/drive/MyDrive/Thermal_Super_Resolution/model.py:97: The name tf.image.resize_bicubic is deprecated. Please use tf.compat.v1.image.resize_bicubic instead.\n",
            "\n",
            "WARNING:tensorflow:From /content/drive/MyDrive/Thermal_Super_Resolution/model.py:83: The name tf.depth_to_space is deprecated. Please use tf.compat.v1.depth_to_space instead.\n",
            "\n",
            "WARNING:tensorflow:From pred_demo.py:29: The name tf.trainable_variables is deprecated. Please use tf.compat.v1.trainable_variables instead.\n",
            "\n",
            "6.1007e+00 sec took building model\n",
            "WARNING:tensorflow:From pred_demo.py:33: The name tf.Session is deprecated. Please use tf.compat.v1.Session instead.\n",
            "\n",
            "2021-05-01 08:05:17.086140: I tensorflow/stream_executor/platform/default/dso_loader.cc:44] Successfully opened dynamic library libcuda.so.1\n",
            "2021-05-01 08:05:17.147599: I tensorflow/stream_executor/cuda/cuda_gpu_executor.cc:983] successful NUMA node read from SysFS had negative value (-1), but there must be at least one NUMA node, so returning NUMA node zero\n",
            "2021-05-01 08:05:17.148207: I tensorflow/core/common_runtime/gpu/gpu_device.cc:1618] Found device 0 with properties: \n",
            "name: Tesla T4 major: 7 minor: 5 memoryClockRate(GHz): 1.59\n",
            "pciBusID: 0000:00:04.0\n",
            "2021-05-01 08:05:17.159107: I tensorflow/stream_executor/platform/default/dso_loader.cc:44] Successfully opened dynamic library libcudart.so.10.0\n",
            "2021-05-01 08:05:17.394331: I tensorflow/stream_executor/platform/default/dso_loader.cc:44] Successfully opened dynamic library libcublas.so.10.0\n",
            "2021-05-01 08:05:17.489209: I tensorflow/stream_executor/platform/default/dso_loader.cc:44] Successfully opened dynamic library libcufft.so.10.0\n",
            "2021-05-01 08:05:17.508479: I tensorflow/stream_executor/platform/default/dso_loader.cc:44] Successfully opened dynamic library libcurand.so.10.0\n",
            "2021-05-01 08:05:17.742396: I tensorflow/stream_executor/platform/default/dso_loader.cc:44] Successfully opened dynamic library libcusolver.so.10.0\n",
            "2021-05-01 08:05:17.900789: I tensorflow/stream_executor/platform/default/dso_loader.cc:44] Successfully opened dynamic library libcusparse.so.10.0\n",
            "2021-05-01 08:05:18.423018: I tensorflow/stream_executor/platform/default/dso_loader.cc:44] Successfully opened dynamic library libcudnn.so.7\n",
            "2021-05-01 08:05:18.423235: I tensorflow/stream_executor/cuda/cuda_gpu_executor.cc:983] successful NUMA node read from SysFS had negative value (-1), but there must be at least one NUMA node, so returning NUMA node zero\n",
            "2021-05-01 08:05:18.423969: I tensorflow/stream_executor/cuda/cuda_gpu_executor.cc:983] successful NUMA node read from SysFS had negative value (-1), but there must be at least one NUMA node, so returning NUMA node zero\n",
            "2021-05-01 08:05:18.424527: I tensorflow/core/common_runtime/gpu/gpu_device.cc:1746] Adding visible gpu devices: 0\n",
            "2021-05-01 08:05:18.424902: I tensorflow/core/platform/cpu_feature_guard.cc:142] Your CPU supports instructions that this TensorFlow binary was not compiled to use: AVX2 FMA\n",
            "2021-05-01 08:05:18.429826: I tensorflow/core/platform/profile_utils/cpu_utils.cc:94] CPU Frequency: 2199995000 Hz\n",
            "2021-05-01 08:05:18.430038: I tensorflow/compiler/xla/service/service.cc:168] XLA service 0x55e43a66f100 initialized for platform Host (this does not guarantee that XLA will be used). Devices:\n",
            "2021-05-01 08:05:18.430069: I tensorflow/compiler/xla/service/service.cc:176]   StreamExecutor device (0): Host, Default Version\n",
            "2021-05-01 08:05:18.556916: I tensorflow/stream_executor/cuda/cuda_gpu_executor.cc:983] successful NUMA node read from SysFS had negative value (-1), but there must be at least one NUMA node, so returning NUMA node zero\n",
            "2021-05-01 08:05:18.557621: I tensorflow/compiler/xla/service/service.cc:168] XLA service 0x55e43a66f2c0 initialized for platform CUDA (this does not guarantee that XLA will be used). Devices:\n",
            "2021-05-01 08:05:18.557654: I tensorflow/compiler/xla/service/service.cc:176]   StreamExecutor device (0): Tesla T4, Compute Capability 7.5\n",
            "2021-05-01 08:05:18.557829: I tensorflow/stream_executor/cuda/cuda_gpu_executor.cc:983] successful NUMA node read from SysFS had negative value (-1), but there must be at least one NUMA node, so returning NUMA node zero\n",
            "2021-05-01 08:05:18.558399: I tensorflow/core/common_runtime/gpu/gpu_device.cc:1618] Found device 0 with properties: \n",
            "name: Tesla T4 major: 7 minor: 5 memoryClockRate(GHz): 1.59\n",
            "pciBusID: 0000:00:04.0\n",
            "2021-05-01 08:05:18.558492: I tensorflow/stream_executor/platform/default/dso_loader.cc:44] Successfully opened dynamic library libcudart.so.10.0\n",
            "2021-05-01 08:05:18.558519: I tensorflow/stream_executor/platform/default/dso_loader.cc:44] Successfully opened dynamic library libcublas.so.10.0\n",
            "2021-05-01 08:05:18.558545: I tensorflow/stream_executor/platform/default/dso_loader.cc:44] Successfully opened dynamic library libcufft.so.10.0\n",
            "2021-05-01 08:05:18.558566: I tensorflow/stream_executor/platform/default/dso_loader.cc:44] Successfully opened dynamic library libcurand.so.10.0\n",
            "2021-05-01 08:05:18.558586: I tensorflow/stream_executor/platform/default/dso_loader.cc:44] Successfully opened dynamic library libcusolver.so.10.0\n",
            "2021-05-01 08:05:18.558610: I tensorflow/stream_executor/platform/default/dso_loader.cc:44] Successfully opened dynamic library libcusparse.so.10.0\n",
            "2021-05-01 08:05:18.558635: I tensorflow/stream_executor/platform/default/dso_loader.cc:44] Successfully opened dynamic library libcudnn.so.7\n",
            "2021-05-01 08:05:18.558715: I tensorflow/stream_executor/cuda/cuda_gpu_executor.cc:983] successful NUMA node read from SysFS had negative value (-1), but there must be at least one NUMA node, so returning NUMA node zero\n",
            "2021-05-01 08:05:18.559294: I tensorflow/stream_executor/cuda/cuda_gpu_executor.cc:983] successful NUMA node read from SysFS had negative value (-1), but there must be at least one NUMA node, so returning NUMA node zero\n",
            "2021-05-01 08:05:18.559787: I tensorflow/core/common_runtime/gpu/gpu_device.cc:1746] Adding visible gpu devices: 0\n",
            "2021-05-01 08:05:18.559888: I tensorflow/stream_executor/platform/default/dso_loader.cc:44] Successfully opened dynamic library libcudart.so.10.0\n",
            "2021-05-01 08:05:18.562094: I tensorflow/core/common_runtime/gpu/gpu_device.cc:1159] Device interconnect StreamExecutor with strength 1 edge matrix:\n",
            "2021-05-01 08:05:18.562127: I tensorflow/core/common_runtime/gpu/gpu_device.cc:1165]      0 \n",
            "2021-05-01 08:05:18.562138: I tensorflow/core/common_runtime/gpu/gpu_device.cc:1178] 0:   N \n",
            "2021-05-01 08:05:18.562257: I tensorflow/stream_executor/cuda/cuda_gpu_executor.cc:983] successful NUMA node read from SysFS had negative value (-1), but there must be at least one NUMA node, so returning NUMA node zero\n",
            "2021-05-01 08:05:18.562815: I tensorflow/stream_executor/cuda/cuda_gpu_executor.cc:983] successful NUMA node read from SysFS had negative value (-1), but there must be at least one NUMA node, so returning NUMA node zero\n",
            "2021-05-01 08:05:18.563340: W tensorflow/core/common_runtime/gpu/gpu_bfc_allocator.cc:39] Overriding allow_growth setting because the TF_FORCE_GPU_ALLOW_GROWTH environment variable is set. Original config value was 0.\n",
            "2021-05-01 08:05:18.563403: I tensorflow/core/common_runtime/gpu/gpu_device.cc:1304] Created TensorFlow device (/job:localhost/replica:0/task:0/device:GPU:0 with 14257 MB memory) -> physical GPU (device: 0, name: Tesla T4, pci bus id: 0000:00:04.0, compute capability: 7.5)\n",
            "WARNING:tensorflow:From pred_demo.py:34: The name tf.global_variables_initializer is deprecated. Please use tf.compat.v1.global_variables_initializer instead.\n",
            "\n",
            "WARNING:tensorflow:From pred_demo.py:36: The name tf.train.Saver is deprecated. Please use tf.compat.v1.train.Saver instead.\n",
            "\n",
            "load modelpre-GT-Proposed-GRL-cx/model.ckpt-5000\n",
            "succeed restore model\n",
            "1.4059e+01 sec took initializing\n",
            "160.jpg\n",
            "2021-05-01 08:05:29.128904: I tensorflow/stream_executor/platform/default/dso_loader.cc:44] Successfully opened dynamic library libcudnn.so.7\n",
            "2021-05-01 08:05:34.080954: I tensorflow/stream_executor/platform/default/dso_loader.cc:44] Successfully opened dynamic library libcublas.so.10.0\n",
            "output shape is  (512, 640, 3)\n",
            "163.jpg\n",
            "output shape is  (512, 640, 3)\n",
            "161.jpg\n",
            "output shape is  (512, 640, 3)\n",
            "162.jpg\n",
            "output shape is  (512, 640, 3)\n",
            "165.jpg\n",
            "output shape is  (512, 640, 3)\n",
            "164.jpg\n",
            "output shape is  (512, 640, 3)\n",
            "167.jpg\n",
            "output shape is  (512, 640, 3)\n",
            "166.jpg\n",
            "output shape is  (512, 640, 3)\n",
            "168.jpg\n",
            "output shape is  (512, 640, 3)\n",
            "171.jpg\n",
            "output shape is  (512, 640, 3)\n",
            "170.jpg\n",
            "output shape is  (512, 640, 3)\n",
            "169.jpg\n",
            "output shape is  (512, 640, 3)\n",
            "173.jpg\n",
            "output shape is  (512, 640, 3)\n",
            "174.jpg\n",
            "output shape is  (512, 640, 3)\n",
            "175.jpg\n",
            "output shape is  (512, 640, 3)\n",
            "172.jpg\n",
            "output shape is  (512, 640, 3)\n",
            "176.jpg\n",
            "output shape is  (512, 640, 3)\n",
            "177.jpg\n",
            "output shape is  (512, 640, 3)\n",
            "179.jpg\n",
            "output shape is  (512, 640, 3)\n",
            "180.jpg\n",
            "output shape is  (512, 640, 3)\n",
            "178.jpg\n",
            "output shape is  (512, 640, 3)\n",
            "1.8396e+01 sec took for predicting\n"
          ],
          "name": "stdout"
        }
      ]
    },
    {
      "cell_type": "markdown",
      "metadata": {
        "id": "rAjVS2-j5wGa"
      },
      "source": [
        "7. Evaluate using PSNR and SSIM metric. "
      ]
    },
    {
      "cell_type": "code",
      "metadata": {
        "id": "UjlXSD7UWQCj",
        "colab": {
          "base_uri": "https://localhost:8080/"
        },
        "outputId": "74150952-a2a0-4d23-eaad-613bd588e151"
      },
      "source": [
        "!python PSNR_SSIM1_riondemo.py"
      ],
      "execution_count": null,
      "outputs": [
        {
          "output_type": "stream",
          "text": [
            "2021-05-11 15:26:00.045271: I tensorflow/stream_executor/platform/default/dso_loader.cc:49] Successfully opened dynamic library libcudart.so.11.0\n",
            "PSNR_SSIM1_riondemo.py:62: DeprecationWarning:     `imread` is deprecated!\n",
            "    `imread` is deprecated in SciPy 1.0.0, and will be removed in 1.2.0.\n",
            "    Use ``imageio.imread`` instead.\n",
            "  psnr = PSNR(luminance(misc.imread(gt, mode='RGB').astype(np.uint8)), luminance(misc.imread(pred, mode='RGB').astype(np.uint8)))                                                                                                                                                                                                                                                          -7\n",
            "PSNR_SSIM1_riondemo.py:34: UserWarning: DEPRECATED: skimage.measure.compare_psnr has been moved to skimage.metrics.peak_signal_noise_ratio. It will be removed from skimage.measure in version 0.18.\n",
            "  return compare_psnr(gt, pred, data_range=255)\n",
            "PSNR_SSIM1_riondemo.py:63: DeprecationWarning:     `imread` is deprecated!\n",
            "    `imread` is deprecated in SciPy 1.0.0, and will be removed in 1.2.0.\n",
            "    Use ``imageio.imread`` instead.\n",
            "  ssim = SSIM(luminance(misc.imread(gt, mode='RGB').astype(np.uint8)), luminance(misc.imread(pred, mode='RGB').astype(np.uint8)))\n",
            "PSNR_SSIM1_riondemo.py:37: UserWarning: DEPRECATED: skimage.measure.compare_ssim has been moved to skimage.metrics.structural_similarity. It will be removed from skimage.measure in version 0.18.\n",
            "  ssim = compare_ssim(gt, pred, data_range=255, gaussian_weights=True)\n",
            "PSNR Value: 34.44519614842557\n",
            "SSIM Value: 0.972700058462283\n",
            "PSNR Value: 37.57789031846994\n",
            "SSIM Value: 0.9837721731163532\n",
            "PSNR Value: 34.07332545281701\n",
            "SSIM Value: 0.9678300037004548\n",
            "PSNR Value: 35.072747287968255\n",
            "SSIM Value: 0.9745854310977867\n",
            "PSNR Value: 32.21120822492401\n",
            "SSIM Value: 0.9629834256622725\n",
            "PSNR Value: 33.087176204010774\n",
            "SSIM Value: 0.9654371219068514\n",
            "PSNR Value: 34.723301084914795\n",
            "SSIM Value: 0.9743710409972818\n",
            "PSNR Value: 32.03682182762729\n",
            "SSIM Value: 0.9461929132898496\n",
            "PSNR Value: 34.40752979737735\n",
            "SSIM Value: 0.9692320838251941\n",
            "PSNR Value: 33.01536029847415\n",
            "SSIM Value: 0.9648795122505405\n",
            "PSNR Value: 38.44128854681283\n",
            "SSIM Value: 0.9843933561702325\n",
            "PSNR Value: 35.99485744012503\n",
            "SSIM Value: 0.9782434785246124\n",
            "PSNR Value: 38.140363485515365\n",
            "SSIM Value: 0.9818817185499632\n",
            "PSNR Value: 33.37981328352721\n",
            "SSIM Value: 0.9690465588795298\n",
            "PSNR Value: 32.02194543539751\n",
            "SSIM Value: 0.9490815289946567\n",
            "PSNR Value: 34.83621548681421\n",
            "SSIM Value: 0.9765615223930832\n",
            "PSNR Value: 37.58850199953572\n",
            "SSIM Value: 0.9809129101683883\n",
            "PSNR Value: 32.237472328176224\n",
            "SSIM Value: 0.9482389879723047\n",
            "PSNR Value: 35.16753423533878\n",
            "SSIM Value: 0.9762077715376609\n",
            "PSNR Value: 31.29720103331968\n",
            "SSIM Value: 0.950546309247613\n",
            "PSNR Value: 41.0569591049524\n",
            "SSIM Value: 0.9912126760562537\n",
            "PSNR Average value: 34.800605191644\n",
            "SSIM Average value: 0.9699195515620554\n"
          ],
          "name": "stdout"
        }
      ]
    },
    {
      "cell_type": "markdown",
      "metadata": {
        "id": "lesG1ebM6H85"
      },
      "source": [
        "Other utilities functions"
      ]
    },
    {
      "cell_type": "code",
      "metadata": {
        "colab": {
          "base_uri": "https://localhost:8080/"
        },
        "id": "dSJXkuOTTTS9",
        "outputId": "a403d11e-bae0-4133-9d0c-489daef7ac55"
      },
      "source": [
        "!python pred.py"
      ],
      "execution_count": null,
      "outputs": [
        {
          "output_type": "stream",
          "text": [
            "WARNING:tensorflow:\n",
            "The TensorFlow contrib module will not be included in TensorFlow 2.0.\n",
            "For more information, please see:\n",
            "  * https://github.com/tensorflow/community/blob/master/rfcs/20180907-contrib-sunset.md\n",
            "  * https://github.com/tensorflow/addons\n",
            "  * https://github.com/tensorflow/io (for I/O related ops)\n",
            "If you depend on functionality not listed there, please file an issue.\n",
            "\n",
            "WARNING:tensorflow:From pred.py:26: The name tf.placeholder is deprecated. Please use tf.compat.v1.placeholder instead.\n",
            "\n",
            "WARNING:tensorflow:From /content/drive/.shortcut-targets-by-id/1y5mYjbvWKaQdmkmWmZDF1JpNijl9fJpS/Thermal_Super_Resolution/model.py:88: The name tf.variable_scope is deprecated. Please use tf.compat.v1.variable_scope instead.\n",
            "\n",
            "WARNING:tensorflow:From /content/drive/.shortcut-targets-by-id/1y5mYjbvWKaQdmkmWmZDF1JpNijl9fJpS/Thermal_Super_Resolution/model.py:89: conv2d (from tensorflow.python.layers.convolutional) is deprecated and will be removed in a future version.\n",
            "Instructions for updating:\n",
            "Use `tf.keras.layers.Conv2D` instead.\n",
            "WARNING:tensorflow:From /usr/local/lib/python3.7/dist-packages/tensorflow_core/python/layers/convolutional.py:424: Layer.apply (from tensorflow.python.keras.engine.base_layer) is deprecated and will be removed in a future version.\n",
            "Instructions for updating:\n",
            "Please use `layer.__call__` method instead.\n",
            "WARNING:tensorflow:From /content/drive/.shortcut-targets-by-id/1y5mYjbvWKaQdmkmWmZDF1JpNijl9fJpS/Thermal_Super_Resolution/model.py:11: The name tf.AUTO_REUSE is deprecated. Please use tf.compat.v1.AUTO_REUSE instead.\n",
            "\n",
            "WARNING:tensorflow:From /content/drive/.shortcut-targets-by-id/1y5mYjbvWKaQdmkmWmZDF1JpNijl9fJpS/Thermal_Super_Resolution/model.py:13: The name tf.get_variable is deprecated. Please use tf.compat.v1.get_variable instead.\n",
            "\n",
            "WARNING:tensorflow:From /content/drive/.shortcut-targets-by-id/1y5mYjbvWKaQdmkmWmZDF1JpNijl9fJpS/Thermal_Super_Resolution/model.py:97: The name tf.image.resize_bicubic is deprecated. Please use tf.compat.v1.image.resize_bicubic instead.\n",
            "\n",
            "WARNING:tensorflow:From /content/drive/.shortcut-targets-by-id/1y5mYjbvWKaQdmkmWmZDF1JpNijl9fJpS/Thermal_Super_Resolution/model.py:83: The name tf.depth_to_space is deprecated. Please use tf.compat.v1.depth_to_space instead.\n",
            "\n",
            "WARNING:tensorflow:From pred.py:29: The name tf.trainable_variables is deprecated. Please use tf.compat.v1.trainable_variables instead.\n",
            "\n",
            "6.1177e+00 sec took building model\n",
            "WARNING:tensorflow:From pred.py:33: The name tf.Session is deprecated. Please use tf.compat.v1.Session instead.\n",
            "\n",
            "2021-05-12 05:00:27.900464: I tensorflow/stream_executor/platform/default/dso_loader.cc:44] Successfully opened dynamic library libcuda.so.1\n",
            "2021-05-12 05:00:27.930627: I tensorflow/stream_executor/cuda/cuda_gpu_executor.cc:983] successful NUMA node read from SysFS had negative value (-1), but there must be at least one NUMA node, so returning NUMA node zero\n",
            "2021-05-12 05:00:27.931247: I tensorflow/core/common_runtime/gpu/gpu_device.cc:1618] Found device 0 with properties: \n",
            "name: Tesla T4 major: 7 minor: 5 memoryClockRate(GHz): 1.59\n",
            "pciBusID: 0000:00:04.0\n",
            "2021-05-12 05:00:27.931636: I tensorflow/stream_executor/platform/default/dso_loader.cc:44] Successfully opened dynamic library libcudart.so.10.0\n",
            "2021-05-12 05:00:27.934254: I tensorflow/stream_executor/platform/default/dso_loader.cc:44] Successfully opened dynamic library libcublas.so.10.0\n",
            "2021-05-12 05:00:27.935975: I tensorflow/stream_executor/platform/default/dso_loader.cc:44] Successfully opened dynamic library libcufft.so.10.0\n",
            "2021-05-12 05:00:27.936485: I tensorflow/stream_executor/platform/default/dso_loader.cc:44] Successfully opened dynamic library libcurand.so.10.0\n",
            "2021-05-12 05:00:27.938612: I tensorflow/stream_executor/platform/default/dso_loader.cc:44] Successfully opened dynamic library libcusolver.so.10.0\n",
            "2021-05-12 05:00:27.940867: I tensorflow/stream_executor/platform/default/dso_loader.cc:44] Successfully opened dynamic library libcusparse.so.10.0\n",
            "2021-05-12 05:00:27.946183: I tensorflow/stream_executor/platform/default/dso_loader.cc:44] Successfully opened dynamic library libcudnn.so.7\n",
            "2021-05-12 05:00:27.946315: I tensorflow/stream_executor/cuda/cuda_gpu_executor.cc:983] successful NUMA node read from SysFS had negative value (-1), but there must be at least one NUMA node, so returning NUMA node zero\n",
            "2021-05-12 05:00:27.946921: I tensorflow/stream_executor/cuda/cuda_gpu_executor.cc:983] successful NUMA node read from SysFS had negative value (-1), but there must be at least one NUMA node, so returning NUMA node zero\n",
            "2021-05-12 05:00:27.947475: I tensorflow/core/common_runtime/gpu/gpu_device.cc:1746] Adding visible gpu devices: 0\n",
            "2021-05-12 05:00:27.947805: I tensorflow/core/platform/cpu_feature_guard.cc:142] Your CPU supports instructions that this TensorFlow binary was not compiled to use: AVX2 FMA\n",
            "2021-05-12 05:00:27.952622: I tensorflow/core/platform/profile_utils/cpu_utils.cc:94] CPU Frequency: 2199995000 Hz\n",
            "2021-05-12 05:00:27.952794: I tensorflow/compiler/xla/service/service.cc:168] XLA service 0x5641945c5100 initialized for platform Host (this does not guarantee that XLA will be used). Devices:\n",
            "2021-05-12 05:00:27.952820: I tensorflow/compiler/xla/service/service.cc:176]   StreamExecutor device (0): Host, Default Version\n",
            "2021-05-12 05:00:28.147711: I tensorflow/stream_executor/cuda/cuda_gpu_executor.cc:983] successful NUMA node read from SysFS had negative value (-1), but there must be at least one NUMA node, so returning NUMA node zero\n",
            "2021-05-12 05:00:28.148648: I tensorflow/compiler/xla/service/service.cc:168] XLA service 0x5641945c52c0 initialized for platform CUDA (this does not guarantee that XLA will be used). Devices:\n",
            "2021-05-12 05:00:28.148681: I tensorflow/compiler/xla/service/service.cc:176]   StreamExecutor device (0): Tesla T4, Compute Capability 7.5\n",
            "2021-05-12 05:00:28.148861: I tensorflow/stream_executor/cuda/cuda_gpu_executor.cc:983] successful NUMA node read from SysFS had negative value (-1), but there must be at least one NUMA node, so returning NUMA node zero\n",
            "2021-05-12 05:00:28.149439: I tensorflow/core/common_runtime/gpu/gpu_device.cc:1618] Found device 0 with properties: \n",
            "name: Tesla T4 major: 7 minor: 5 memoryClockRate(GHz): 1.59\n",
            "pciBusID: 0000:00:04.0\n",
            "2021-05-12 05:00:28.149526: I tensorflow/stream_executor/platform/default/dso_loader.cc:44] Successfully opened dynamic library libcudart.so.10.0\n",
            "2021-05-12 05:00:28.149553: I tensorflow/stream_executor/platform/default/dso_loader.cc:44] Successfully opened dynamic library libcublas.so.10.0\n",
            "2021-05-12 05:00:28.149578: I tensorflow/stream_executor/platform/default/dso_loader.cc:44] Successfully opened dynamic library libcufft.so.10.0\n",
            "2021-05-12 05:00:28.149599: I tensorflow/stream_executor/platform/default/dso_loader.cc:44] Successfully opened dynamic library libcurand.so.10.0\n",
            "2021-05-12 05:00:28.149618: I tensorflow/stream_executor/platform/default/dso_loader.cc:44] Successfully opened dynamic library libcusolver.so.10.0\n",
            "2021-05-12 05:00:28.149641: I tensorflow/stream_executor/platform/default/dso_loader.cc:44] Successfully opened dynamic library libcusparse.so.10.0\n",
            "2021-05-12 05:00:28.149665: I tensorflow/stream_executor/platform/default/dso_loader.cc:44] Successfully opened dynamic library libcudnn.so.7\n",
            "2021-05-12 05:00:28.149741: I tensorflow/stream_executor/cuda/cuda_gpu_executor.cc:983] successful NUMA node read from SysFS had negative value (-1), but there must be at least one NUMA node, so returning NUMA node zero\n",
            "2021-05-12 05:00:28.150318: I tensorflow/stream_executor/cuda/cuda_gpu_executor.cc:983] successful NUMA node read from SysFS had negative value (-1), but there must be at least one NUMA node, so returning NUMA node zero\n",
            "2021-05-12 05:00:28.150811: I tensorflow/core/common_runtime/gpu/gpu_device.cc:1746] Adding visible gpu devices: 0\n",
            "2021-05-12 05:00:28.150897: I tensorflow/stream_executor/platform/default/dso_loader.cc:44] Successfully opened dynamic library libcudart.so.10.0\n",
            "2021-05-12 05:00:28.152187: I tensorflow/core/common_runtime/gpu/gpu_device.cc:1159] Device interconnect StreamExecutor with strength 1 edge matrix:\n",
            "2021-05-12 05:00:28.152214: I tensorflow/core/common_runtime/gpu/gpu_device.cc:1165]      0 \n",
            "2021-05-12 05:00:28.152226: I tensorflow/core/common_runtime/gpu/gpu_device.cc:1178] 0:   N \n",
            "2021-05-12 05:00:28.152340: I tensorflow/stream_executor/cuda/cuda_gpu_executor.cc:983] successful NUMA node read from SysFS had negative value (-1), but there must be at least one NUMA node, so returning NUMA node zero\n",
            "2021-05-12 05:00:28.152892: I tensorflow/stream_executor/cuda/cuda_gpu_executor.cc:983] successful NUMA node read from SysFS had negative value (-1), but there must be at least one NUMA node, so returning NUMA node zero\n",
            "2021-05-12 05:00:28.153505: W tensorflow/core/common_runtime/gpu/gpu_bfc_allocator.cc:39] Overriding allow_growth setting because the TF_FORCE_GPU_ALLOW_GROWTH environment variable is set. Original config value was 0.\n",
            "2021-05-12 05:00:28.153543: I tensorflow/core/common_runtime/gpu/gpu_device.cc:1304] Created TensorFlow device (/job:localhost/replica:0/task:0/device:GPU:0 with 14257 MB memory) -> physical GPU (device: 0, name: Tesla T4, pci bus id: 0000:00:04.0, compute capability: 7.5)\n",
            "WARNING:tensorflow:From pred.py:34: The name tf.global_variables_initializer is deprecated. Please use tf.compat.v1.global_variables_initializer instead.\n",
            "\n",
            "WARNING:tensorflow:From pred.py:36: The name tf.train.Saver is deprecated. Please use tf.compat.v1.train.Saver instead.\n",
            "\n",
            "load modelpre-GT-Proposed-GRL-cx/model.ckpt-5000\n",
            "succeed restore model\n",
            "1.0430e+01 sec took initializing\n",
            "1388.jpg\n",
            "2021-05-12 05:00:35.989987: I tensorflow/stream_executor/platform/default/dso_loader.cc:44] Successfully opened dynamic library libcudnn.so.7\n",
            "2021-05-12 05:00:37.187000: I tensorflow/stream_executor/platform/default/dso_loader.cc:44] Successfully opened dynamic library libcublas.so.10.0\n",
            "output shape is  (512, 640, 3)\n",
            "6.3864e+00 sec took for predicting\n"
          ],
          "name": "stdout"
        }
      ]
    },
    {
      "cell_type": "code",
      "metadata": {
        "colab": {
          "base_uri": "https://localhost:8080/"
        },
        "id": "pC0xjYg9YMQp",
        "outputId": "f4bc33de-07ee-448d-b274-c4b1584da4a2"
      },
      "source": [
        "!nvidia-smi"
      ],
      "execution_count": null,
      "outputs": [
        {
          "output_type": "stream",
          "text": [
            "Tue Apr 27 08:10:03 2021       \n",
            "+-----------------------------------------------------------------------------+\n",
            "| NVIDIA-SMI 465.19.01    Driver Version: 460.32.03    CUDA Version: 11.2     |\n",
            "|-------------------------------+----------------------+----------------------+\n",
            "| GPU  Name        Persistence-M| Bus-Id        Disp.A | Volatile Uncorr. ECC |\n",
            "| Fan  Temp  Perf  Pwr:Usage/Cap|         Memory-Usage | GPU-Util  Compute M. |\n",
            "|                               |                      |               MIG M. |\n",
            "|===============================+======================+======================|\n",
            "|   0  Tesla T4            Off  | 00000000:00:04.0 Off |                    0 |\n",
            "| N/A   39C    P8     9W /  70W |      0MiB / 15109MiB |      0%      Default |\n",
            "|                               |                      |                  N/A |\n",
            "+-------------------------------+----------------------+----------------------+\n",
            "                                                                               \n",
            "+-----------------------------------------------------------------------------+\n",
            "| Processes:                                                                  |\n",
            "|  GPU   GI   CI        PID   Type   Process name                  GPU Memory |\n",
            "|        ID   ID                                                   Usage      |\n",
            "|=============================================================================|\n",
            "|  No running processes found                                                 |\n",
            "+-----------------------------------------------------------------------------+\n"
          ],
          "name": "stdout"
        }
      ]
    },
    {
      "cell_type": "code",
      "metadata": {
        "id": "TKuLzymuFbRQ"
      },
      "source": [
        "!python PSNR_SSIM1_riondemo.py\n"
      ],
      "execution_count": null,
      "outputs": []
    }
  ]
}